{
 "cells": [
  {
   "cell_type": "code",
   "execution_count": 1,
   "id": "39d2c04a-1e5a-4b54-8f3c-d47e3fb84e5e",
   "metadata": {
    "collapsed": true,
    "jupyter": {
     "outputs_hidden": true
    },
    "tags": []
   },
   "outputs": [
    {
     "name": "stdout",
     "output_type": "stream",
     "text": [
      "Requirement already satisfied: datasets in /opt/conda/lib/python3.10/site-packages (3.3.2)\n",
      "Requirement already satisfied: pandas in /opt/conda/lib/python3.10/site-packages (2.0.3)\n",
      "Requirement already satisfied: scikit-learn in /opt/conda/lib/python3.10/site-packages (1.5.2)\n",
      "Requirement already satisfied: torch in /opt/conda/lib/python3.10/site-packages (2.5.1)\n",
      "Collecting transformers\n",
      "  Using cached transformers-4.49.0-py3-none-any.whl.metadata (44 kB)\n",
      "Requirement already satisfied: tqdm in /opt/conda/lib/python3.10/site-packages (4.66.5)\n",
      "Collecting fugashi\n",
      "  Downloading fugashi-1.4.0-cp310-cp310-manylinux_2_17_x86_64.manylinux2014_x86_64.whl.metadata (6.9 kB)\n",
      "Collecting unidic-lite\n",
      "  Using cached unidic-lite-1.0.8.tar.gz (47.4 MB)\n",
      "  Preparing metadata (setup.py) ... \u001b[?25ldone\n",
      "\u001b[?25hRequirement already satisfied: filelock in /opt/conda/lib/python3.10/site-packages (from datasets) (3.16.1)\n",
      "Requirement already satisfied: numpy>=1.17 in /opt/conda/lib/python3.10/site-packages (from datasets) (1.24.4)\n",
      "Requirement already satisfied: pyarrow>=15.0.0 in /opt/conda/lib/python3.10/site-packages (from datasets) (19.0.1)\n",
      "Requirement already satisfied: dill<0.3.9,>=0.3.0 in /opt/conda/lib/python3.10/site-packages (from datasets) (0.3.1.1)\n",
      "Requirement already satisfied: requests>=2.32.2 in /opt/conda/lib/python3.10/site-packages (from datasets) (2.32.3)\n",
      "Requirement already satisfied: xxhash in /opt/conda/lib/python3.10/site-packages (from datasets) (3.5.0)\n",
      "Requirement already satisfied: multiprocess<0.70.17 in /opt/conda/lib/python3.10/site-packages (from datasets) (0.70.16)\n",
      "Requirement already satisfied: fsspec<=2024.12.0,>=2023.1.0 in /opt/conda/lib/python3.10/site-packages (from fsspec[http]<=2024.12.0,>=2023.1.0->datasets) (2024.9.0)\n",
      "Requirement already satisfied: aiohttp in /opt/conda/lib/python3.10/site-packages (from datasets) (3.10.5)\n",
      "Requirement already satisfied: huggingface-hub>=0.24.0 in /opt/conda/lib/python3.10/site-packages (from datasets) (0.29.1)\n",
      "Requirement already satisfied: packaging in /opt/conda/lib/python3.10/site-packages (from datasets) (24.1)\n",
      "Requirement already satisfied: pyyaml>=5.1 in /opt/conda/lib/python3.10/site-packages (from datasets) (6.0.2)\n",
      "Requirement already satisfied: python-dateutil>=2.8.2 in /opt/conda/lib/python3.10/site-packages (from pandas) (2.9.0)\n",
      "Requirement already satisfied: pytz>=2020.1 in /opt/conda/lib/python3.10/site-packages (from pandas) (2024.2)\n",
      "Requirement already satisfied: tzdata>=2022.1 in /opt/conda/lib/python3.10/site-packages (from pandas) (2024.1)\n",
      "Requirement already satisfied: scipy>=1.6.0 in /opt/conda/lib/python3.10/site-packages (from scikit-learn) (1.11.4)\n",
      "Requirement already satisfied: joblib>=1.2.0 in /opt/conda/lib/python3.10/site-packages (from scikit-learn) (1.4.2)\n",
      "Requirement already satisfied: threadpoolctl>=3.1.0 in /opt/conda/lib/python3.10/site-packages (from scikit-learn) (3.5.0)\n",
      "Requirement already satisfied: typing-extensions>=4.8.0 in /opt/conda/lib/python3.10/site-packages (from torch) (4.12.2)\n",
      "Requirement already satisfied: networkx in /opt/conda/lib/python3.10/site-packages (from torch) (3.3)\n",
      "Requirement already satisfied: jinja2 in /opt/conda/lib/python3.10/site-packages (from torch) (3.1.4)\n",
      "Requirement already satisfied: nvidia-cuda-nvrtc-cu12==12.4.127 in /opt/conda/lib/python3.10/site-packages (from torch) (12.4.127)\n",
      "Requirement already satisfied: nvidia-cuda-runtime-cu12==12.4.127 in /opt/conda/lib/python3.10/site-packages (from torch) (12.4.127)\n",
      "Requirement already satisfied: nvidia-cuda-cupti-cu12==12.4.127 in /opt/conda/lib/python3.10/site-packages (from torch) (12.4.127)\n",
      "Requirement already satisfied: nvidia-cudnn-cu12==9.1.0.70 in /opt/conda/lib/python3.10/site-packages (from torch) (9.1.0.70)\n",
      "Requirement already satisfied: nvidia-cublas-cu12==12.4.5.8 in /opt/conda/lib/python3.10/site-packages (from torch) (12.4.5.8)\n",
      "Requirement already satisfied: nvidia-cufft-cu12==11.2.1.3 in /opt/conda/lib/python3.10/site-packages (from torch) (11.2.1.3)\n",
      "Requirement already satisfied: nvidia-curand-cu12==10.3.5.147 in /opt/conda/lib/python3.10/site-packages (from torch) (10.3.5.147)\n",
      "Requirement already satisfied: nvidia-cusolver-cu12==11.6.1.9 in /opt/conda/lib/python3.10/site-packages (from torch) (11.6.1.9)\n",
      "Requirement already satisfied: nvidia-cusparse-cu12==12.3.1.170 in /opt/conda/lib/python3.10/site-packages (from torch) (12.3.1.170)\n",
      "Requirement already satisfied: nvidia-nccl-cu12==2.21.5 in /opt/conda/lib/python3.10/site-packages (from torch) (2.21.5)\n",
      "Requirement already satisfied: nvidia-nvtx-cu12==12.4.127 in /opt/conda/lib/python3.10/site-packages (from torch) (12.4.127)\n",
      "Requirement already satisfied: nvidia-nvjitlink-cu12==12.4.127 in /opt/conda/lib/python3.10/site-packages (from torch) (12.4.127)\n",
      "Requirement already satisfied: triton==3.1.0 in /opt/conda/lib/python3.10/site-packages (from torch) (3.1.0)\n",
      "Requirement already satisfied: sympy==1.13.1 in /opt/conda/lib/python3.10/site-packages (from torch) (1.13.1)\n",
      "Requirement already satisfied: mpmath<1.4,>=1.1.0 in /opt/conda/lib/python3.10/site-packages (from sympy==1.13.1->torch) (1.3.0)\n",
      "Requirement already satisfied: regex!=2019.12.17 in /opt/conda/lib/python3.10/site-packages (from transformers) (2024.9.11)\n",
      "Collecting tokenizers<0.22,>=0.21 (from transformers)\n",
      "  Using cached tokenizers-0.21.0-cp39-abi3-manylinux_2_17_x86_64.manylinux2014_x86_64.whl.metadata (6.7 kB)\n",
      "Collecting safetensors>=0.4.1 (from transformers)\n",
      "  Using cached safetensors-0.5.3-cp38-abi3-manylinux_2_17_x86_64.manylinux2014_x86_64.whl.metadata (3.8 kB)\n",
      "Requirement already satisfied: aiohappyeyeballs>=2.3.0 in /opt/conda/lib/python3.10/site-packages (from aiohttp->datasets) (2.4.0)\n",
      "Requirement already satisfied: aiosignal>=1.1.2 in /opt/conda/lib/python3.10/site-packages (from aiohttp->datasets) (1.3.1)\n",
      "Requirement already satisfied: attrs>=17.3.0 in /opt/conda/lib/python3.10/site-packages (from aiohttp->datasets) (24.2.0)\n",
      "Requirement already satisfied: frozenlist>=1.1.1 in /opt/conda/lib/python3.10/site-packages (from aiohttp->datasets) (1.4.1)\n",
      "Requirement already satisfied: multidict<7.0,>=4.5 in /opt/conda/lib/python3.10/site-packages (from aiohttp->datasets) (6.1.0)\n",
      "Requirement already satisfied: yarl<2.0,>=1.0 in /opt/conda/lib/python3.10/site-packages (from aiohttp->datasets) (1.11.1)\n",
      "Requirement already satisfied: async-timeout<5.0,>=4.0 in /opt/conda/lib/python3.10/site-packages (from aiohttp->datasets) (4.0.3)\n",
      "Collecting dill<0.3.9,>=0.3.0 (from datasets)\n",
      "  Using cached dill-0.3.8-py3-none-any.whl.metadata (10 kB)\n",
      "Requirement already satisfied: six>=1.5 in /opt/conda/lib/python3.10/site-packages (from python-dateutil>=2.8.2->pandas) (1.16.0)\n",
      "Requirement already satisfied: charset-normalizer<4,>=2 in /opt/conda/lib/python3.10/site-packages (from requests>=2.32.2->datasets) (3.3.2)\n",
      "Requirement already satisfied: idna<4,>=2.5 in /opt/conda/lib/python3.10/site-packages (from requests>=2.32.2->datasets) (3.10)\n",
      "Requirement already satisfied: urllib3<3,>=1.21.1 in /opt/conda/lib/python3.10/site-packages (from requests>=2.32.2->datasets) (1.26.20)\n",
      "Requirement already satisfied: certifi>=2017.4.17 in /opt/conda/lib/python3.10/site-packages (from requests>=2.32.2->datasets) (2024.8.30)\n",
      "Requirement already satisfied: MarkupSafe>=2.0 in /opt/conda/lib/python3.10/site-packages (from jinja2->torch) (2.0.1)\n",
      "Using cached transformers-4.49.0-py3-none-any.whl (10.0 MB)\n",
      "Downloading fugashi-1.4.0-cp310-cp310-manylinux_2_17_x86_64.manylinux2014_x86_64.whl (671 kB)\n",
      "\u001b[2K   \u001b[90m━━━━━━━━━━━━━━━━━━━━━━━━━━━━━━━━━━━━━━━━\u001b[0m \u001b[32m671.7/671.7 kB\u001b[0m \u001b[31m20.5 MB/s\u001b[0m eta \u001b[36m0:00:00\u001b[0m\n",
      "\u001b[?25hUsing cached dill-0.3.8-py3-none-any.whl (116 kB)\n",
      "Using cached safetensors-0.5.3-cp38-abi3-manylinux_2_17_x86_64.manylinux2014_x86_64.whl (471 kB)\n",
      "Using cached tokenizers-0.21.0-cp39-abi3-manylinux_2_17_x86_64.manylinux2014_x86_64.whl (3.0 MB)\n",
      "Building wheels for collected packages: unidic-lite\n",
      "  Building wheel for unidic-lite (setup.py) ... \u001b[?25l-^C\n",
      "\u001b[?25canceled\n",
      "\u001b[31mERROR: Operation cancelled by user\u001b[0m\u001b[31m\n",
      "\u001b[0m"
     ]
    }
   ],
   "source": [
    "!pip install datasets pandas scikit-learn torch transformers tqdm fugashi unidic-lite accelerate japanize-matplotlib seaborn"
   ]
  },
  {
   "cell_type": "markdown",
   "id": "497ae5a2-307f-4070-bfd0-15584e35c046",
   "metadata": {
    "tags": []
   },
   "source": [
    "### Fine-tuning flow\n",
    "\n",
    "1. Prepare local dataset or load public dataset\n",
    "2. Load model and tokenizer\n",
    "3. Train a model"
   ]
  },
  {
   "cell_type": "markdown",
   "id": "9baafb35-60da-44af-8bf7-4a2f5aa485e4",
   "metadata": {},
   "source": [
    "# Library"
   ]
  },
  {
   "cell_type": "code",
   "execution_count": 40,
   "id": "711849bd-664e-4df7-b12e-e61724a54334",
   "metadata": {},
   "outputs": [],
   "source": [
    "from typing import Dict\n",
    "import os\n",
    "import tarfile\n",
    "import warnings\n",
    "\n",
    "import pandas as pd\n",
    "from tqdm import tqdm\n",
    "\n",
    "import matplotlib.pyplot as plt\n",
    "import seaborn as sns\n",
    "from sklearn.model_selection import train_test_split\n",
    "from sklearn.metrics import precision_score, recall_score, f1_score, classification_report, confusion_matrix\n",
    "\n",
    "from datasets import load_dataset\n",
    "import torch\n",
    "from torch.utils.data import Dataset, DataLoader\n",
    "import torch.nn as nn\n",
    "from transformers import (\n",
    "    AutoTokenizer, AutoModel, EvalPrediction, TrainingArguments,\n",
    "    Trainer, EarlyStoppingCallback\n",
    ")\n",
    "from transformers.modeling_outputs import ModelOutput\n",
    "\n",
    "warnings.filterwarnings(\"ignore\")\n",
    "\n",
    "data_path = \"/home/jupyter/llm/finetuning/data\""
   ]
  },
  {
   "cell_type": "markdown",
   "id": "e843f2af-99dc-4139-8b1a-ab4b64a1b3f9",
   "metadata": {},
   "source": [
    "# Data Preparation"
   ]
  },
  {
   "cell_type": "markdown",
   "id": "d7724690-644a-4a52-8706-b999917b05c8",
   "metadata": {},
   "source": [
    "## Load public dataset"
   ]
  },
  {
   "cell_type": "code",
   "execution_count": 1,
   "id": "df55a865-4817-4c1b-821d-29525476f044",
   "metadata": {
    "tags": []
   },
   "outputs": [
    {
     "name": "stderr",
     "output_type": "stream",
     "text": [
      "/opt/conda/envs/llm_ft/lib/python3.10/site-packages/tqdm/auto.py:21: TqdmWarning: IProgress not found. Please update jupyter and ipywidgets. See https://ipywidgets.readthedocs.io/en/stable/user_install.html\n",
      "  from .autonotebook import tqdm as notebook_tqdm\n",
      "Generating train split: 100%|██████████| 3668/3668 [00:00<00:00, 281518.55 examples/s]\n",
      "Generating validation split: 100%|██████████| 408/408 [00:00<00:00, 99678.24 examples/s]\n",
      "Generating test split: 100%|██████████| 1725/1725 [00:00<00:00, 272984.24 examples/s]\n"
     ]
    }
   ],
   "source": [
    "raw_datasets = load_dataset(\"glue\", \"mrpc\")\n",
    "\n",
    "def tokenize_function(example):\n",
    "    return tokenizer(example[\"sentence1\"], example[\"sentence2\"], truncation=True)\n",
    "\n",
    "tokenized_datasets = raw_datasets.map(tokenize_function, batched=True)\n",
    "\n",
    "trainer = Trainer(\n",
    "    model,\n",
    "    training_args,\n",
    "    train_dataset=tokenized_datasets[\"train\"],\n",
    "    eval_dataset=tokenized_datasets[\"validation\"],\n",
    "    data_collator=data_collator,\n",
    "    tokenizer=tokenizer,\n",
    ")"
   ]
  },
  {
   "cell_type": "markdown",
   "id": "3442af9e-0d14-447a-b24a-b74fa0334559",
   "metadata": {},
   "source": [
    "## Livedoor news content"
   ]
  },
  {
   "cell_type": "markdown",
   "id": "50ebf2e1-83fc-4dc0-95b6-f970c07108a7",
   "metadata": {},
   "source": [
    "### data download"
   ]
  },
  {
   "cell_type": "markdown",
   "id": "bf0471ec-4713-4c73-b942-06f75fc31e76",
   "metadata": {},
   "source": [
    "- Src: https://zenn.dev/robes/articles/c2c65d9aef7562\n",
    "- Dataset: https://www.rondhuit.com/download/ldcc-20140209.tar.gz"
   ]
  },
  {
   "cell_type": "code",
   "execution_count": 9,
   "id": "571c93e3-8d5e-4531-95a1-084807529c55",
   "metadata": {
    "tags": []
   },
   "outputs": [
    {
     "name": "stdout",
     "output_type": "stream",
     "text": [
      "CHANGES.txt\tit-life-hack\tmovie-enter  sports-watch\n",
      "README.txt\tkaden-channel\tpeachy\t     topic-news\n",
      "dokujo-tsushin\tlivedoor-homme\tsmax\n"
     ]
    }
   ],
   "source": [
    "!mkdor {data_path}ldcc_data\n",
    "\n",
    "# ファイルパスを指定する\n",
    "tar_file_path = f\"{data_path}/uploaded/ldcc-20140209.tar.gz\"\n",
    "extract_folder = f\"{data_path}/ldcc_data/\"\n",
    "\n",
    "!tar -xf {tar_file_path} -C {extract_folder}\n",
    "!ls {extract_folder}text"
   ]
  },
  {
   "cell_type": "markdown",
   "id": "2b7231a7-4187-49dd-bd09-11b3c03d9b22",
   "metadata": {},
   "source": [
    "### data formatter"
   ]
  },
  {
   "cell_type": "code",
   "execution_count": 10,
   "id": "856220e8-e922-4db5-8b1d-0a08a23ba34b",
   "metadata": {},
   "outputs": [],
   "source": [
    "def read_articles_from_directory(directory_path):\n",
    "    #ディレクトリーの中から記事のテキストファイルのパスをリストとして読み込む\n",
    "    files = [f for f in os.listdir(directory_path) if f not in [\"LICENSE.txt\"]]\n",
    "    \n",
    "    articles = []\n",
    "    for file in files:\n",
    "        #記事を一つずつ読み込み、url,date,bodyに分け、辞書を作る\n",
    "        with open(os.path.join(directory_path, file), \n",
    "\t\t\"r\", encoding=\"utf-8\") as f:\n",
    "            lines = f.readlines()\n",
    "            articles.append({\n",
    "                \"url\": lines[0].strip(),\n",
    "                \"date\": lines[1].strip(),\n",
    "                \"body\": ''.join(lines[2:]).strip()\n",
    "            })\n",
    "    \n",
    "    return articles"
   ]
  },
  {
   "cell_type": "code",
   "execution_count": 12,
   "id": "5b61ee38-5ed8-408e-8d1c-2dbd40dff0b5",
   "metadata": {},
   "outputs": [
    {
     "name": "stdout",
     "output_type": "stream",
     "text": [
      "{'kaden-channel': '../data/ldcc_data/content/kaden-channel.csv', 'livedoor-homme': '../data/ldcc_data/content/livedoor-homme.csv', 'topic-news': '../data/ldcc_data/content/topic-news.csv', 'peachy': '../data/ldcc_data/content/peachy.csv', 'smax': '../data/ldcc_data/content/smax.csv', 'dokujo-tsushin': '../data/ldcc_data/content/dokujo-tsushin.csv', 'it-life-hack': '../data/ldcc_data/content/it-life-hack.csv', 'sports-watch': '../data/ldcc_data/content/sports-watch.csv', 'movie-enter': '../data/ldcc_data/content/movie-enter.csv'}\n"
     ]
    }
   ],
   "source": [
    "# 各記事のディレクトリーを取得する\n",
    "directories = [d for d in os.listdir(extract_folder + \"text/\") \n",
    "\tif d not in [\"CHANGES.txt\", \"README.txt\"]]\n",
    "\n",
    "# カテゴリーごとのCSVファイルを作る\n",
    "csv_file_paths = {}\n",
    "for directory in directories:\n",
    "    # Read articles from the category directory\n",
    "    articles = read_articles_from_directory(extract_folder + \"text/\" + directory)\n",
    "    df = pd.DataFrame(articles)\n",
    "\n",
    "    # Save to CSV\n",
    "    csv_path = f\"{data_path}/ldcc_data/content/{directory}.csv\"\n",
    "    df.to_csv(csv_path, index=False)\n",
    "    csv_file_paths[directory] = csv_path\n",
    "\n",
    "print(csv_file_paths)"
   ]
  },
  {
   "cell_type": "code",
   "execution_count": 48,
   "id": "6692229b-edd7-4fc5-86c4-9859991a7875",
   "metadata": {},
   "outputs": [],
   "source": [
    "new_data = []\n",
    "\n",
    "for directory in directories:\n",
    "    data_csv = pd.read_csv(f\"{data_path}/ldcc_data/content/{directory}.csv\")\n",
    "    for id, row in data_csv.iterrows():\n",
    "        title = row[\"body\"].split(\"\\n\")[0]\n",
    "        body = \"\\n\".join(row[\"body\"].split(\"\\n\")[1:])\n",
    "        new_data.append([\n",
    "            directory, title, body\n",
    "        ])\n",
    "        \n",
    "new_data = pd.DataFrame(new_data, columns = [\"category\", \"title\", \"body\"])\n",
    "\n",
    "new_data.to_pickle(f\"{data_path}ldcc_data/livedoor_data.pkl\")"
   ]
  },
  {
   "cell_type": "markdown",
   "id": "28a50535-8d43-469d-a9e4-88973a3e60d2",
   "metadata": {},
   "source": [
    "# Data Loading"
   ]
  },
  {
   "cell_type": "markdown",
   "id": "ccf9ee6e-f953-4809-be18-2efa43bbaeb9",
   "metadata": {},
   "source": [
    "## Livedoor news content"
   ]
  },
  {
   "cell_type": "code",
   "execution_count": 2,
   "id": "0eca8a78-ef01-4466-8589-c87a72cd08e3",
   "metadata": {},
   "outputs": [
    {
     "data": {
      "text/html": [
       "<div>\n",
       "<style scoped>\n",
       "    .dataframe tbody tr th:only-of-type {\n",
       "        vertical-align: middle;\n",
       "    }\n",
       "\n",
       "    .dataframe tbody tr th {\n",
       "        vertical-align: top;\n",
       "    }\n",
       "\n",
       "    .dataframe thead th {\n",
       "        text-align: right;\n",
       "    }\n",
       "</style>\n",
       "<table border=\"1\" class=\"dataframe\">\n",
       "  <thead>\n",
       "    <tr style=\"text-align: right;\">\n",
       "      <th></th>\n",
       "      <th>category</th>\n",
       "      <th>title</th>\n",
       "      <th>body</th>\n",
       "      <th>category_id</th>\n",
       "    </tr>\n",
       "  </thead>\n",
       "  <tbody>\n",
       "    <tr>\n",
       "      <th>5273</th>\n",
       "      <td>it-life-hack</td>\n",
       "      <td>ご当地アプリがiPhoneカバーに！　登場！ぐんまのやぼう ＆ にほんのあらそい iPhon...</td>\n",
       "      <td>株式会社ラナは、アプリ作家のRucKyGAMESとライセンス契約を結び、人気のご当地アプリ「...</td>\n",
       "      <td>6</td>\n",
       "    </tr>\n",
       "    <tr>\n",
       "      <th>3388</th>\n",
       "      <td>smax</td>\n",
       "      <td>テンキー×タッチでスマートフォンを思いのままに。「AQUOS PHONE SL IS15SH...</td>\n",
       "      <td>スライドテンキーなAQUOS PHONEがフルモデルチェンジ！ \\n\\n既報のとおり、KDD...</td>\n",
       "      <td>4</td>\n",
       "    </tr>\n",
       "    <tr>\n",
       "      <th>6418</th>\n",
       "      <td>sports-watch</td>\n",
       "      <td>【Sports Watch】ノムさんボヤく「佑ちゃん、ちょっと騒ぎ過ぎ」</td>\n",
       "      <td>15日深夜、TBSのスポーツ番組「S1」では、毎週恒例となった野村克也氏による「ノムさんのボ...</td>\n",
       "      <td>7</td>\n",
       "    </tr>\n",
       "  </tbody>\n",
       "</table>\n",
       "</div>"
      ],
      "text/plain": [
       "          category                                              title  \\\n",
       "5273  it-life-hack  ご当地アプリがiPhoneカバーに！　登場！ぐんまのやぼう ＆ にほんのあらそい iPhon...   \n",
       "3388          smax  テンキー×タッチでスマートフォンを思いのままに。「AQUOS PHONE SL IS15SH...   \n",
       "6418  sports-watch               【Sports Watch】ノムさんボヤく「佑ちゃん、ちょっと騒ぎ過ぎ」   \n",
       "\n",
       "                                                   body  category_id  \n",
       "5273  株式会社ラナは、アプリ作家のRucKyGAMESとライセンス契約を結び、人気のご当地アプリ「...            6  \n",
       "3388  スライドテンキーなAQUOS PHONEがフルモデルチェンジ！ \\n\\n既報のとおり、KDD...            4  \n",
       "6418  15日深夜、TBSのスポーツ番組「S1」では、毎週恒例となった野村克也氏による「ノムさんのボ...            7  "
      ]
     },
     "execution_count": 2,
     "metadata": {},
     "output_type": "execute_result"
    }
   ],
   "source": [
    "df = pd.read_pickle(f\"{data_path}/ldcc_data/livedoor_data.pkl\")\n",
    "# カテゴリーのID列を付与しておく\n",
    "categories = df['category'].unique().tolist()\n",
    "category2id = {cat: categories.index(cat) for cat in categories}\n",
    "df['category_id'] = df['category'].map(lambda x: category2id[x])\n",
    "\n",
    "df.sample(3)"
   ]
  },
  {
   "cell_type": "markdown",
   "id": "9395405a-5c17-4704-9c8d-cb307f0e6c07",
   "metadata": {},
   "source": [
    "# Data Preprocessing"
   ]
  },
  {
   "cell_type": "code",
   "execution_count": 3,
   "id": "199af12c-a8c6-495b-a6fe-899085b9a403",
   "metadata": {},
   "outputs": [
    {
     "name": "stdout",
     "output_type": "stream",
     "text": [
      "train size (5156, 4)\n",
      "eval size (1105, 4)\n",
      "test size (1106, 4)\n"
     ]
    }
   ],
   "source": [
    "train_df, eval_df = train_test_split(df, train_size=0.7)\n",
    "eval_df, test_df = train_test_split(eval_df, train_size=0.5)\n",
    "print('train size', train_df.shape)\n",
    "print('eval size', eval_df.shape)\n",
    "print('test size', test_df.shape)\n",
    "# train size (5156, 4)\n",
    "# eval size (1105, 4)\n",
    "# test size (1106, 4)"
   ]
  },
  {
   "cell_type": "markdown",
   "id": "126e15e3-7886-4435-9355-c5e4bd9a7451",
   "metadata": {},
   "source": [
    "# Dataset class"
   ]
  },
  {
   "cell_type": "code",
   "execution_count": 4,
   "id": "8aef9f27-a69e-4292-884b-8c3b804e8546",
   "metadata": {},
   "outputs": [
    {
     "name": "stderr",
     "output_type": "stream",
     "text": [
      "100%|██████████| 5156/5156 [00:00<00:00, 449517.38it/s]\n",
      "100%|██████████| 1105/1105 [00:00<00:00, 529378.17it/s]\n",
      "100%|██████████| 1106/1106 [00:00<00:00, 490525.56it/s]\n"
     ]
    }
   ],
   "source": [
    "class LivedoorDataset(Dataset):\n",
    "    def __init__(self, df):\n",
    "        self.features = [\n",
    "            {\n",
    "                'title': row.title,\n",
    "                'category_id': row.category_id\n",
    "            } for row in tqdm(df.itertuples(), total=df.shape[0])\n",
    "        ]\n",
    "    \n",
    "    def __len__(self):\n",
    "        return len(self.features)\n",
    "    \n",
    "    def __getitem__(self, idx):\n",
    "        return self.features[idx]\n",
    "\n",
    "train_dataset = LivedoorDataset(train_df)\n",
    "eval_dataset = LivedoorDataset(eval_df)\n",
    "test_dataset = LivedoorDataset(test_df)"
   ]
  },
  {
   "cell_type": "code",
   "execution_count": 5,
   "id": "d80cfb3d-cca3-4e89-ab09-d0afe8cff8f1",
   "metadata": {
    "tags": []
   },
   "outputs": [
    {
     "data": {
      "text/plain": [
       "{'title': 'AKB指原莉乃の衝撃交際報道、小林よしのり氏の見解は？', 'category_id': 2}"
      ]
     },
     "execution_count": 5,
     "metadata": {},
     "output_type": "execute_result"
    }
   ],
   "source": [
    "train_dataset[0]"
   ]
  },
  {
   "cell_type": "markdown",
   "id": "42516305-daff-4382-a246-7d3dbe390aff",
   "metadata": {},
   "source": [
    "# Data collator"
   ]
  },
  {
   "cell_type": "markdown",
   "id": "0a2b1bea-162b-4cce-8071-605b7aa2c497",
   "metadata": {},
   "source": [
    "## Livedoor news content"
   ]
  },
  {
   "cell_type": "code",
   "execution_count": 50,
   "id": "cc4b7e39-4f60-4df6-839d-eaf2d646a5b7",
   "metadata": {
    "tags": []
   },
   "outputs": [
    {
     "name": "stdout",
     "output_type": "stream",
     "text": [
      "cl-tohoku_bert-base-japanese-whole-word-masking\n"
     ]
    }
   ],
   "source": [
    "# pretrained_model = 'deepseek-ai/DeepSeek-R1'\n",
    "\n",
    "pretrained_model = 'cl-tohoku/bert-base-japanese-whole-word-masking'\n",
    "# pretrained_model = 'facebook/opt-125m'\n",
    "# pretrained_model = 'microsoft/phi-2'\n",
    "# pretrained_model = 'meta-llama/Llama-3.1-8B-Instruct'\n",
    "# pretrained_model = 'lmsys/vicuna-7b-v1.5'\n",
    "# pretrained_model = 'mistralai/Mistral-7B-v0.1'\n",
    "# pretrained_model = 'google/gemma-2-2b-it'\n",
    "# pretrained_model = 'Qwen/Qwen2.5-VL-7B-Instruct'\n",
    "\n",
    "output_path = \"/home/jupyter/llm/finetuning/output\"\n",
    "target_model = pretrained_model.replace(\"/\", \"_\")\n",
    "\n",
    "os.makedirs(f\"{output_path}/{target_model}\", exist_ok=True)\n",
    "\n",
    "print(target_model)"
   ]
  },
  {
   "cell_type": "code",
   "execution_count": 43,
   "id": "ad078861-584c-4843-9755-75c5e94c8805",
   "metadata": {
    "tags": []
   },
   "outputs": [],
   "source": [
    "class DataCollator():\n",
    "    def __init__(self, tokenizer, max_length=512):\n",
    "        self.tokenizer = tokenizer\n",
    "        self.max_length = max_length\n",
    "    \n",
    "    def __call__(self, examples):\n",
    "        examples = {\n",
    "            'title': list(map(lambda x: x['title'], examples)),\n",
    "            'category_id': list(map(lambda x: x['category_id'], examples))\n",
    "        }\n",
    "        \n",
    "        encodings = self.tokenizer(examples['title'],\n",
    "                                   padding=True,\n",
    "                                   truncation=True,\n",
    "                                   max_length=self.max_length,\n",
    "                                   return_tensors='pt')\n",
    "        encodings['category_id'] = torch.tensor(examples['category_id'])\n",
    "        return encodings"
   ]
  },
  {
   "cell_type": "code",
   "execution_count": 44,
   "id": "f6671b48-844f-4dff-9235-0b6f89d0e152",
   "metadata": {
    "tags": []
   },
   "outputs": [],
   "source": [
    "tokenizer = AutoTokenizer.from_pretrained(pretrained_model)\n",
    "data_collator = DataCollator(tokenizer)"
   ]
  },
  {
   "cell_type": "code",
   "execution_count": 45,
   "id": "88546f04-3f50-4284-b184-69635c215568",
   "metadata": {
    "tags": []
   },
   "outputs": [
    {
     "name": "stdout",
     "output_type": "stream",
     "text": [
      "input_ids torch.Size([8, 30])\n",
      "token_type_ids torch.Size([8, 30])\n",
      "attention_mask torch.Size([8, 30])\n",
      "category_id torch.Size([8])\n",
      "{'input_ids': tensor([[    2,   355, 29197,    14, 23702,   240, 29256,     5, 24666,     7,\n",
      "          6068, 22675,  3919, 29217,     3,     0,     0,     0,     0,     0,\n",
      "             0,     0,     0,     0,     0,     0,     0,     0,     0,     0],\n",
      "        [    2, 21203, 28589,  9929,     6,  6961,  2984, 28865,  1949, 28642,\n",
      "         29182, 10688,  1389, 14400,    57,   143,   518,  6724,  5464,    36,\n",
      "         18532, 12305, 29141, 29182,  2668,   582,    38,    11,   602,     3],\n",
      "        [    2,  9680, 21436, 28589,   472, 19366,  9594,  9002,     5,  1075,\n",
      "            81, 28422,     6,   608,    51,     5,   408,     5,  1052, 29167,\n",
      "             9,  2935,     3,     0,     0,     0,     0,     0,     0,     0],\n",
      "        [    2,  5696,    35, 14201,     5,  6905,     7,  2956, 28859,    18,\n",
      "          5416,    14, 21080,     3,     0,     0,     0,     0,     0,     0,\n",
      "             0,     0,     0,     0,     0,     0,     0,     0,     0,     0],\n",
      "        [    2,  9680,   744, 29323,     5,   110,    55, 28466, 28542,    36,\n",
      "         18060,  4437,    38,  7815,   266,   908,    19,    76,    37,   483,\n",
      "          1143,    39,    32,   512,  9594,     3,     0,     0,     0,     0],\n",
      "        [    2,    36,  8405,     7,    28,  4443,     7,  2568,    14,     8,\n",
      "           171,  6172,  2383,  2935,   679,    38,    61,  7216, 28869, 16357,\n",
      "          3250, 17204,   143,  1241,     3,     0,     0,     0,     0,     0],\n",
      "        [    2,    73,  2532, 28503, 20719,    12,  5901,    13, 21738,  1676,\n",
      "            11,  7533,     5, 15172,     7,    73, 22465, 11800,  9680,  9317,\n",
      "         29760,  9398,  9594,     3,     0,     0,     0,     0,     0,     0],\n",
      "        [    2,  9680, 21436, 28589,   472, 19366,  9594, 26803,     5,   885,\n",
      "          1394, 30669,  7358,     7,     6,  2203,  2147,     5,  1298,    13,\n",
      "            29,   633,    80,  1964,     3,     0,     0,     0,     0,     0]]), 'token_type_ids': tensor([[0, 0, 0, 0, 0, 0, 0, 0, 0, 0, 0, 0, 0, 0, 0, 0, 0, 0, 0, 0, 0, 0, 0, 0,\n",
      "         0, 0, 0, 0, 0, 0],\n",
      "        [0, 0, 0, 0, 0, 0, 0, 0, 0, 0, 0, 0, 0, 0, 0, 0, 0, 0, 0, 0, 0, 0, 0, 0,\n",
      "         0, 0, 0, 0, 0, 0],\n",
      "        [0, 0, 0, 0, 0, 0, 0, 0, 0, 0, 0, 0, 0, 0, 0, 0, 0, 0, 0, 0, 0, 0, 0, 0,\n",
      "         0, 0, 0, 0, 0, 0],\n",
      "        [0, 0, 0, 0, 0, 0, 0, 0, 0, 0, 0, 0, 0, 0, 0, 0, 0, 0, 0, 0, 0, 0, 0, 0,\n",
      "         0, 0, 0, 0, 0, 0],\n",
      "        [0, 0, 0, 0, 0, 0, 0, 0, 0, 0, 0, 0, 0, 0, 0, 0, 0, 0, 0, 0, 0, 0, 0, 0,\n",
      "         0, 0, 0, 0, 0, 0],\n",
      "        [0, 0, 0, 0, 0, 0, 0, 0, 0, 0, 0, 0, 0, 0, 0, 0, 0, 0, 0, 0, 0, 0, 0, 0,\n",
      "         0, 0, 0, 0, 0, 0],\n",
      "        [0, 0, 0, 0, 0, 0, 0, 0, 0, 0, 0, 0, 0, 0, 0, 0, 0, 0, 0, 0, 0, 0, 0, 0,\n",
      "         0, 0, 0, 0, 0, 0],\n",
      "        [0, 0, 0, 0, 0, 0, 0, 0, 0, 0, 0, 0, 0, 0, 0, 0, 0, 0, 0, 0, 0, 0, 0, 0,\n",
      "         0, 0, 0, 0, 0, 0]]), 'attention_mask': tensor([[1, 1, 1, 1, 1, 1, 1, 1, 1, 1, 1, 1, 1, 1, 1, 0, 0, 0, 0, 0, 0, 0, 0, 0,\n",
      "         0, 0, 0, 0, 0, 0],\n",
      "        [1, 1, 1, 1, 1, 1, 1, 1, 1, 1, 1, 1, 1, 1, 1, 1, 1, 1, 1, 1, 1, 1, 1, 1,\n",
      "         1, 1, 1, 1, 1, 1],\n",
      "        [1, 1, 1, 1, 1, 1, 1, 1, 1, 1, 1, 1, 1, 1, 1, 1, 1, 1, 1, 1, 1, 1, 1, 0,\n",
      "         0, 0, 0, 0, 0, 0],\n",
      "        [1, 1, 1, 1, 1, 1, 1, 1, 1, 1, 1, 1, 1, 1, 0, 0, 0, 0, 0, 0, 0, 0, 0, 0,\n",
      "         0, 0, 0, 0, 0, 0],\n",
      "        [1, 1, 1, 1, 1, 1, 1, 1, 1, 1, 1, 1, 1, 1, 1, 1, 1, 1, 1, 1, 1, 1, 1, 1,\n",
      "         1, 1, 0, 0, 0, 0],\n",
      "        [1, 1, 1, 1, 1, 1, 1, 1, 1, 1, 1, 1, 1, 1, 1, 1, 1, 1, 1, 1, 1, 1, 1, 1,\n",
      "         1, 0, 0, 0, 0, 0],\n",
      "        [1, 1, 1, 1, 1, 1, 1, 1, 1, 1, 1, 1, 1, 1, 1, 1, 1, 1, 1, 1, 1, 1, 1, 1,\n",
      "         0, 0, 0, 0, 0, 0],\n",
      "        [1, 1, 1, 1, 1, 1, 1, 1, 1, 1, 1, 1, 1, 1, 1, 1, 1, 1, 1, 1, 1, 1, 1, 1,\n",
      "         1, 0, 0, 0, 0, 0]]), 'category_id': tensor([2, 4, 7, 7, 4, 1, 0, 7])}\n"
     ]
    }
   ],
   "source": [
    "loader = DataLoader(train_dataset, collate_fn=data_collator, batch_size=8, shuffle=True)\n",
    "batch = next(iter(loader))\n",
    "for k,v in batch.items():\n",
    "    print(k, v.shape)\n",
    "# input_ids torch.Size([8, 42])\n",
    "# token_type_ids torch.Size([8, 42])\n",
    "# attention_mask torch.Size([8, 42])\n",
    "# category_id torch.Size([8])\n",
    "\n",
    "print(batch)\n",
    "# {'input_ids': tensor([[    2,  8485, 10731,     6, 14484, 28687, 17658, 14239, 17298,  5191,\n",
    "#            231,     7,   147, 29012,  4955,    11,  2143,   679,   908,    19,\n",
    "#            159,    37, 11780,   580,  1484,     3,     0,     0,     0,     0,・・・\n",
    "# 'token_type_ids': tensor([[0, 0, 0, 0, 0, 0, 0, 0, 0, 0, 0, 0, 0, 0, 0,・・・\n",
    "# 'attention_mask': tensor([[1, 1, 1, 1, 1, 1, 1, 1, 1, 1, 1, 1, 1, 1, 1, ・・・\n",
    "# 'category_id': tensor([4, 4, 6, 1, 3, 7, 3, 6])}"
   ]
  },
  {
   "cell_type": "markdown",
   "id": "864667f7-c573-4911-ba67-6bdcdc79eeaa",
   "metadata": {},
   "source": [
    "# Modeling"
   ]
  },
  {
   "cell_type": "code",
   "execution_count": 46,
   "id": "888d1737-1529-4b42-b145-faf8e99f3e1c",
   "metadata": {
    "tags": []
   },
   "outputs": [],
   "source": [
    "class Bert_Net(nn.Module):\n",
    "    def __init__(self, pretrained_model, num_categories, loss_function=None):\n",
    "        super().__init__()\n",
    "        self.bert = pretrained_model\n",
    "        self.hidden_size = self.bert.config.hidden_size\n",
    "        self.linear = nn.Linear(self.hidden_size, num_categories)\n",
    "        self.loss_function = loss_function\n",
    "    \n",
    "    def forward(self,\n",
    "                input_ids,\n",
    "                attention_mask=None,\n",
    "                position_ids=None,\n",
    "                token_type_ids=None,\n",
    "                output_attentions=False,\n",
    "                output_hidden_states=False,\n",
    "                category_id=None):\n",
    "        \n",
    "        outputs = self.bert(input_ids,\n",
    "                            attention_mask=attention_mask,\n",
    "                            position_ids=position_ids,\n",
    "                            token_type_ids=token_type_ids,\n",
    "                            output_attentions=output_attentions,\n",
    "                            output_hidden_states=output_hidden_states)\n",
    "        \n",
    "        state = outputs.last_hidden_state[:, 0, :]\n",
    "        state = self.linear(state)\n",
    "        \n",
    "        loss=None\n",
    "        if category_id is not None and self.loss_function is not None:\n",
    "            loss = self.loss_function(state, category_id)\n",
    "        \n",
    "        attentions=None\n",
    "        if output_attentions:\n",
    "            attentions=outputs.attentions\n",
    "        \n",
    "        hidden_states=None\n",
    "        if output_hidden_states:\n",
    "            hidden_states=outputs.hidden_states\n",
    "        \n",
    "        return ModelOutput(\n",
    "            logits=state,\n",
    "            loss=loss,\n",
    "            last_hidden_state=outputs.last_hidden_state,\n",
    "            attentions=attentions,\n",
    "            hidden_states=hidden_states\n",
    "        )\n",
    "    \n",
    "class OPT_Net(nn.Module):\n",
    "    def __init__(self, pretrained_model, num_categories, loss_function=None):\n",
    "        super().__init__()\n",
    "        self.bert = pretrained_model\n",
    "        self.hidden_size = self.bert.config.hidden_size\n",
    "        self.linear = nn.Linear(self.hidden_size, num_categories)\n",
    "        self.loss_function = loss_function\n",
    "\n",
    "    def forward(self,\n",
    "                input_ids,\n",
    "                attention_mask=None,\n",
    "                position_ids=None,\n",
    "                token_type_ids=None,\n",
    "                output_attentions=False,\n",
    "                output_hidden_states=False,\n",
    "                category_id=None):\n",
    "        \n",
    "        # Check if the model supports `token_type_ids`\n",
    "        if \"token_type_ids\" in self.bert.forward.__code__.co_varnames:\n",
    "            outputs = self.bert(input_ids=input_ids,\n",
    "                                attention_mask=attention_mask,\n",
    "                                position_ids=position_ids,\n",
    "                                token_type_ids=token_type_ids,\n",
    "                                output_attentions=output_attentions,\n",
    "                                output_hidden_states=output_hidden_states)\n",
    "        else:\n",
    "            outputs = self.bert(input_ids=input_ids,\n",
    "                                attention_mask=attention_mask,\n",
    "                                position_ids=position_ids,\n",
    "                                output_attentions=output_attentions,\n",
    "                                output_hidden_states=output_hidden_states)\n",
    "        \n",
    "        # Extract the CLS token representation\n",
    "        state = outputs.last_hidden_state[:, 0, :]\n",
    "        logits = self.linear(state)\n",
    "        \n",
    "        # Compute loss if `category_id` and `loss_function` are provided\n",
    "        loss = None\n",
    "        if category_id is not None and self.loss_function is not None:\n",
    "            loss = self.loss_function(logits, category_id)\n",
    "        \n",
    "        # Extract attentions and hidden states if requested\n",
    "        attentions = outputs.attentions if output_attentions else None\n",
    "        hidden_states = outputs.hidden_states if output_hidden_states else None\n",
    "        \n",
    "        # Return a ModelOutput object\n",
    "        return ModelOutput(\n",
    "            logits=logits,\n",
    "            loss=loss,\n",
    "            last_hidden_state=outputs.last_hidden_state,\n",
    "            attentions=attentions,\n",
    "            hidden_states=hidden_states\n",
    "        )"
   ]
  },
  {
   "cell_type": "code",
   "execution_count": 47,
   "id": "d8b0e534-bb74-4e71-b8ef-adbc89e3659a",
   "metadata": {
    "tags": []
   },
   "outputs": [],
   "source": [
    "loss_fct = nn.CrossEntropyLoss()\n",
    "pretrained_model = AutoModel.from_pretrained(pretrained_model)\n",
    "if target_model in [\n",
    "    \"facebook_opt-125m\", \n",
    "]:\n",
    "    net = OPT_Net(pretrained_model, len(categories), loss_fct)\n",
    "elif target_model in [\n",
    "    \"cl-tohoku_bert-base-japanese-whole-word-masking\"\n",
    "]:\n",
    "    net = Bert_Net(pretrained_model, len(categories), loss_fct)"
   ]
  },
  {
   "cell_type": "markdown",
   "id": "a16a8533-1fb8-4e69-bca1-35a24a016db4",
   "metadata": {},
   "source": [
    "# Custom"
   ]
  },
  {
   "cell_type": "markdown",
   "id": "19e3ac66-1a4d-43af-8866-da820c2d2c17",
   "metadata": {},
   "source": [
    "## compute_metrics"
   ]
  },
  {
   "cell_type": "code",
   "execution_count": 48,
   "id": "63cd5968-f521-4591-ba4e-16708749b4ab",
   "metadata": {
    "tags": []
   },
   "outputs": [],
   "source": [
    "def custom_compute_metrics(res: EvalPrediction) -> Dict:\n",
    "    # res.predictions, res.label_idsはnumpyのarray\n",
    "    pred = res.predictions.argmax(axis=1)\n",
    "    target = res.label_ids\n",
    "    precision = precision_score(target, pred, average='macro')\n",
    "    recall = recall_score(target, pred, average='macro')\n",
    "    f1 = f1_score(target, pred, average='macro')\n",
    "    return {\n",
    "        'precision': precision,\n",
    "        'recall': recall,\n",
    "        'f1': f1\n",
    "    }"
   ]
  },
  {
   "cell_type": "markdown",
   "id": "b274d037-888e-4dfe-ac05-9655168f9b0c",
   "metadata": {},
   "source": [
    "## TrainingArguments"
   ]
  },
  {
   "cell_type": "code",
   "execution_count": 51,
   "id": "537ac3a0-5321-4fcf-b807-1d5559173ed6",
   "metadata": {
    "tags": []
   },
   "outputs": [],
   "source": [
    "training_args = TrainingArguments(\n",
    "    output_dir=f'{output_path}/{target_model}',\n",
    "    save_safetensors=False,\n",
    "    eval_strategy='epoch',\n",
    "    logging_strategy='epoch',\n",
    "    save_strategy='epoch',\n",
    "    save_total_limit=1,\n",
    "    label_names=['category_id'],\n",
    "    lr_scheduler_type='constant',\n",
    "    metric_for_best_model='f1',\n",
    "    load_best_model_at_end=True,\n",
    "    per_device_train_batch_size=64,\n",
    "    per_device_eval_batch_size=64,\n",
    "    num_train_epochs=20,\n",
    "    remove_unused_columns=False,\n",
    "    report_to='none'\n",
    ")"
   ]
  },
  {
   "cell_type": "markdown",
   "id": "78727c64-b6d6-47c2-ac6e-6926748ecf00",
   "metadata": {},
   "source": [
    "# Training"
   ]
  },
  {
   "cell_type": "code",
   "execution_count": 52,
   "id": "a62f099f-f6f8-414b-a035-74657a1df057",
   "metadata": {
    "tags": []
   },
   "outputs": [
    {
     "data": {
      "text/html": [
       "\n",
       "    <div>\n",
       "      \n",
       "      <progress value='486' max='1620' style='width:300px; height:20px; vertical-align: middle;'></progress>\n",
       "      [ 486/1620 04:31 < 10:35, 1.79 it/s, Epoch 6/20]\n",
       "    </div>\n",
       "    <table border=\"1\" class=\"dataframe\">\n",
       "  <thead>\n",
       " <tr style=\"text-align: left;\">\n",
       "      <th>Epoch</th>\n",
       "      <th>Training Loss</th>\n",
       "      <th>Validation Loss</th>\n",
       "      <th>Precision</th>\n",
       "      <th>Recall</th>\n",
       "      <th>F1</th>\n",
       "    </tr>\n",
       "  </thead>\n",
       "  <tbody>\n",
       "    <tr>\n",
       "      <td>1</td>\n",
       "      <td>0.883400</td>\n",
       "      <td>0.414238</td>\n",
       "      <td>0.846708</td>\n",
       "      <td>0.845979</td>\n",
       "      <td>0.844629</td>\n",
       "    </tr>\n",
       "    <tr>\n",
       "      <td>2</td>\n",
       "      <td>0.268500</td>\n",
       "      <td>0.380594</td>\n",
       "      <td>0.877314</td>\n",
       "      <td>0.868031</td>\n",
       "      <td>0.868470</td>\n",
       "    </tr>\n",
       "    <tr>\n",
       "      <td>3</td>\n",
       "      <td>0.114400</td>\n",
       "      <td>0.381189</td>\n",
       "      <td>0.884883</td>\n",
       "      <td>0.879700</td>\n",
       "      <td>0.880874</td>\n",
       "    </tr>\n",
       "    <tr>\n",
       "      <td>4</td>\n",
       "      <td>0.047600</td>\n",
       "      <td>0.492750</td>\n",
       "      <td>0.879421</td>\n",
       "      <td>0.866745</td>\n",
       "      <td>0.870984</td>\n",
       "    </tr>\n",
       "    <tr>\n",
       "      <td>5</td>\n",
       "      <td>0.031400</td>\n",
       "      <td>0.630214</td>\n",
       "      <td>0.876514</td>\n",
       "      <td>0.866693</td>\n",
       "      <td>0.868621</td>\n",
       "    </tr>\n",
       "    <tr>\n",
       "      <td>6</td>\n",
       "      <td>0.024000</td>\n",
       "      <td>0.561249</td>\n",
       "      <td>0.887535</td>\n",
       "      <td>0.876166</td>\n",
       "      <td>0.878803</td>\n",
       "    </tr>\n",
       "  </tbody>\n",
       "</table><p>"
      ],
      "text/plain": [
       "<IPython.core.display.HTML object>"
      ]
     },
     "metadata": {},
     "output_type": "display_data"
    },
    {
     "data": {
      "text/plain": [
       "TrainOutput(global_step=486, training_loss=0.2282260376730083, metrics={'train_runtime': 271.4106, 'train_samples_per_second': 379.941, 'train_steps_per_second': 5.969, 'total_flos': 0.0, 'train_loss': 0.2282260376730083, 'epoch': 6.0})"
      ]
     },
     "execution_count": 52,
     "metadata": {},
     "output_type": "execute_result"
    }
   ],
   "source": [
    "trainer = Trainer(\n",
    "    model=net,\n",
    "    tokenizer=tokenizer,\n",
    "    data_collator=data_collator,\n",
    "    compute_metrics=custom_compute_metrics,\n",
    "    args=training_args,\n",
    "    train_dataset=train_dataset,\n",
    "    eval_dataset=eval_dataset,\n",
    "    callbacks=[EarlyStoppingCallback(early_stopping_patience=3)]\n",
    ")\n",
    "\n",
    "trainer.train(ignore_keys_for_eval=['last_hidden_state', 'hidden_states', 'attentions'])"
   ]
  },
  {
   "cell_type": "markdown",
   "id": "db094f21-93a3-4888-9608-ce4854c4f742",
   "metadata": {},
   "source": [
    "## restart from checkpoint"
   ]
  },
  {
   "cell_type": "code",
   "execution_count": null,
   "id": "cc9ad1bb-77af-4427-9cb6-e26cdf881b69",
   "metadata": {},
   "outputs": [],
   "source": [
    "# trainer.train(ignore_keys_for_eval=['last_hidden_state', 'hidden_states', 'attentions'],\n",
    "#               resume_from_checkpoint=True)"
   ]
  },
  {
   "cell_type": "markdown",
   "id": "0644ca99-ce34-47c3-8250-d89d59ab0b31",
   "metadata": {},
   "source": [
    "# Save model"
   ]
  },
  {
   "cell_type": "code",
   "execution_count": 53,
   "id": "24c39278-86f1-4301-968a-f90cf1e5ce6a",
   "metadata": {
    "tags": []
   },
   "outputs": [],
   "source": [
    "trainer.save_state()\n",
    "trainer.save_model()"
   ]
  },
  {
   "cell_type": "markdown",
   "id": "94706fa3-8e0b-4dd5-a7ae-66b2bec1cd5d",
   "metadata": {},
   "source": [
    "# Predict test data"
   ]
  },
  {
   "cell_type": "code",
   "execution_count": 54,
   "id": "60fea316-ae5c-4f8c-837b-ea7644cc16b0",
   "metadata": {
    "tags": []
   },
   "outputs": [
    {
     "data": {
      "text/html": [],
      "text/plain": [
       "<IPython.core.display.HTML object>"
      ]
     },
     "metadata": {},
     "output_type": "display_data"
    },
    {
     "name": "stdout",
     "output_type": "stream",
     "text": [
      "                precision    recall  f1-score   support\n",
      "\n",
      " kaden-channel       0.99      0.91      0.95       129\n",
      "livedoor-homme       0.85      0.67      0.75        69\n",
      "    topic-news       0.87      0.87      0.87       115\n",
      "        peachy       0.72      0.88      0.79       118\n",
      "          smax       0.97      0.96      0.97       138\n",
      "dokujo-tsushin       0.88      0.82      0.85       126\n",
      "  it-life-hack       0.85      0.96      0.90       135\n",
      "  sports-watch       0.95      0.89      0.92       133\n",
      "   movie-enter       0.83      0.83      0.83       143\n",
      "\n",
      "      accuracy                           0.88      1106\n",
      "     macro avg       0.88      0.87      0.87      1106\n",
      "  weighted avg       0.88      0.88      0.88      1106\n",
      "\n",
      "Classification report saved to /home/jupyter/llm/finetuning/output\n",
      "Confusion matrix saved to /home/jupyter/llm/finetuning/output/cl-tohoku_bert-base-japanese-whole-word-masking/confusion_matrix.png\n"
     ]
    },
    {
     "data": {
      "image/png": "[encoded data removed]",
      "text/plain": [
       "<Figure size 1000x800 with 2 Axes>"
      ]
     },
     "metadata": {},
     "output_type": "display_data"
    }
   ],
   "source": [
    "pred_result = trainer.predict(test_dataset, ignore_keys=['loss', 'last_hidden_state', 'hidden_states', 'attentions'])\n",
    "test_df['predict'] = pred_result.predictions.argmax(axis=1).tolist()\n",
    "\n",
    "report = classification_report(test_df['category_id'], test_df['predict'], target_names=categories)\n",
    "print(report)\n",
    "\n",
    "with open(f'{output_path}/{target_model}/classification_report.txt', \"w\") as f:\n",
    "    f.write(report)\n",
    "\n",
    "print(f\"Classification report saved to {output_path}\")\n",
    "\n",
    "# 混同行列を生成\n",
    "conf_matrix = confusion_matrix(test_df['category_id'], test_df['predict'])\n",
    "\n",
    "# 混同行列を可視化\n",
    "plt.figure(figsize=(10, 8))\n",
    "sns.heatmap(conf_matrix, annot=True, fmt=\"d\", cmap=\"Blues\", xticklabels=categories, yticklabels=categories)\n",
    "plt.xlabel(\"Predicted Labels\")\n",
    "plt.ylabel(\"True Labels\")\n",
    "plt.title(\"Confusion Matrix\")\n",
    "\n",
    "# 混同行列を画像として保存\n",
    "conf_matrix_path = f'{output_path}/{target_model}/confusion_matrix.png'\n",
    "plt.savefig(conf_matrix_path)\n",
    "print(f\"Confusion matrix saved to {conf_matrix_path}\")\n",
    "\n",
    "# 表示\n",
    "plt.show()"
   ]
  },
  {
   "cell_type": "code",
   "execution_count": 37,
   "id": "5abbff64-86c5-4d61-853b-1e8cfe89b05f",
   "metadata": {
    "tags": []
   },
   "outputs": [],
   "source": []
  },
  {
   "cell_type": "code",
   "execution_count": null,
   "id": "49713197-9448-4773-b1fe-cc8e5713d7eb",
   "metadata": {},
   "outputs": [],
   "source": []
  },
  {
   "cell_type": "code",
   "execution_count": null,
   "id": "e58ba769-99af-48b2-9be0-7b782176ee3f",
   "metadata": {},
   "outputs": [],
   "source": []
  },
  {
   "cell_type": "code",
   "execution_count": null,
   "id": "b89406af-84f8-4897-b12d-6a59203aa7e2",
   "metadata": {},
   "outputs": [],
   "source": []
  },
  {
   "cell_type": "code",
   "execution_count": null,
   "id": "6beb1b76-152d-4ef7-a966-05967239e896",
   "metadata": {},
   "outputs": [],
   "source": []
  }
 ],
 "metadata": {
  "environment": {
   "kernel": "llm_ft",
   "name": "tf2-cpu.2-11.m125",
   "type": "gcloud",
   "uri": "us-docker.pkg.dev/deeplearning-platform-release/gcr.io/tf2-cpu.2-11:m125"
  },
  "kernelspec": {
   "display_name": "llm_ft",
   "language": "python",
   "name": "llm_ft"
  },
  "language_info": {
   "codemirror_mode": {
    "name": "ipython",
    "version": 3
   },
   "file_extension": ".py",
   "mimetype": "text/x-python",
   "name": "python",
   "nbconvert_exporter": "python",
   "pygments_lexer": "ipython3",
   "version": "3.10.16"
  }
 },
 "nbformat": 4,
 "nbformat_minor": 5
}
